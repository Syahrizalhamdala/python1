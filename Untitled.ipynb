{
 "cells": [
  {
   "attachments": {},
   "cell_type": "markdown",
   "id": "5f54e9be-9834-4634-a5f3-9c0e1bd933d2",
   "metadata": {},
   "source": [
    "<center>\n",
    "    <img src= \"\" width=\"200\"> \n",
    "    <table>\n",
    "        <tr>\n",
    "            <td>nama</td>\n",
    "            <td>:</td>\n",
    "            <td>syahrizal hamdala</td>\n",
    "        </tr>\n",
    "        <tr>\n",
    "            <td>nim</td>\n",
    "            <td>:</td>\n",
    "            <td>20240040310</td>\n",
    "        </tr>\n",
    "        <tr>\n",
    "            <td>tempat tanggal lahir</td>\n",
    "            <td>:</td>\n",
    "            <td>lasusua 11 desember 2004</td>\n",
    "        </tr>\n",
    "    </table>\n",
    "        \n",
    "</center>\n"
   ]
  },
  {
   "cell_type": "markdown",
   "id": "635e84da-6db5-404d-a818-59e7bc2eca8b",
   "metadata": {},
   "source": []
  }
 ],
 "metadata": {
  "kernelspec": {
   "display_name": "Python [conda env:base] *",
   "language": "python",
   "name": "conda-base-py"
  },
  "language_info": {
   "codemirror_mode": {
    "name": "ipython",
    "version": 3
   },
   "file_extension": ".py",
   "mimetype": "text/x-python",
   "name": "python",
   "nbconvert_exporter": "python",
   "pygments_lexer": "ipython3",
   "version": "3.12.7"
  }
 },
 "nbformat": 4,
 "nbformat_minor": 5
}
