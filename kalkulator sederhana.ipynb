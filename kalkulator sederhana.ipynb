{
 "cells": [
  {
   "cell_type": "code",
   "execution_count": null,
   "id": "249d68bd-2e2d-4f4b-8fde-d66ea4761f16",
   "metadata": {},
   "outputs": [],
   "source": []
  }
 ],
 "metadata": {
  "kernelspec": {
   "display_name": "",
   "name": ""
  },
  "language_info": {
   "name": ""
  }
 },
 "nbformat": 4,
 "nbformat_minor": 5
}
